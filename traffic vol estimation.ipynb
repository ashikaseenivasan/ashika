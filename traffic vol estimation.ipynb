{
 "cells": [
  {
   "cell_type": "code",
   "execution_count": 56,
   "metadata": {},
   "outputs": [
    {
     "name": "stdout",
     "output_type": "stream",
     "text": [
      "Requirement already satisfied: scikit-learn in c:\\users\\srilekha\\anaconda\\lib\\site-packages (1.2.2)\n",
      "Requirement already satisfied: scipy>=1.3.2 in c:\\users\\srilekha\\anaconda\\lib\\site-packages (from scikit-learn) (1.10.0)\n",
      "Requirement already satisfied: joblib>=1.1.1 in c:\\users\\srilekha\\anaconda\\lib\\site-packages (from scikit-learn) (1.1.1)\n",
      "Requirement already satisfied: numpy>=1.17.3 in c:\\users\\srilekha\\anaconda\\lib\\site-packages (from scikit-learn) (1.23.5)\n",
      "Requirement already satisfied: threadpoolctl>=2.0.0 in c:\\users\\srilekha\\anaconda\\lib\\site-packages (from scikit-learn) (2.2.0)\n",
      "Note: you may need to restart the kernel to use updated packages.\n"
     ]
    }
   ],
   "source": [
    "pip install --upgrade scikit-learn\n"
   ]
  },
  {
   "cell_type": "code",
   "execution_count": 57,
   "metadata": {
    "id": "fSnsABv6A5H4"
   },
   "outputs": [],
   "source": [
    "# importing the necessary libraries\n",
    "import pandas as pd\n",
    "import numpy as np\n",
    "import seaborn as sns\n",
    "import sklearn as sk"
   ]
  },
  {
   "cell_type": "code",
   "execution_count": 58,
   "metadata": {
    "id": "nC2V2orPA5IA"
   },
   "outputs": [],
   "source": [
    "# importing the data\n",
    "data = pd.read_csv(r\"C:\\Users\\srilekha\\Desktop\\traffic volume.csv\")"
   ]
  },
  {
   "cell_type": "code",
   "execution_count": 59,
   "metadata": {
    "id": "XMm-Vgb5A5IB",
    "outputId": "88ca327e-a8c6-41f6-edca-e3ef7e50a4a9",
    "scrolled": false
   },
   "outputs": [
    {
     "data": {
      "text/html": [
       "<div>\n",
       "<style scoped>\n",
       "    .dataframe tbody tr th:only-of-type {\n",
       "        vertical-align: middle;\n",
       "    }\n",
       "\n",
       "    .dataframe tbody tr th {\n",
       "        vertical-align: top;\n",
       "    }\n",
       "\n",
       "    .dataframe thead th {\n",
       "        text-align: right;\n",
       "    }\n",
       "</style>\n",
       "<table border=\"1\" class=\"dataframe\">\n",
       "  <thead>\n",
       "    <tr style=\"text-align: right;\">\n",
       "      <th></th>\n",
       "      <th>holiday</th>\n",
       "      <th>temp</th>\n",
       "      <th>rain</th>\n",
       "      <th>snow</th>\n",
       "      <th>weather</th>\n",
       "      <th>date</th>\n",
       "      <th>Time</th>\n",
       "      <th>traffic_volume</th>\n",
       "    </tr>\n",
       "  </thead>\n",
       "  <tbody>\n",
       "    <tr>\n",
       "      <th>0</th>\n",
       "      <td>None</td>\n",
       "      <td>288.28</td>\n",
       "      <td>0.0</td>\n",
       "      <td>0.0</td>\n",
       "      <td>Clouds</td>\n",
       "      <td>02-10-2012</td>\n",
       "      <td>09:00:00</td>\n",
       "      <td>5545</td>\n",
       "    </tr>\n",
       "    <tr>\n",
       "      <th>1</th>\n",
       "      <td>None</td>\n",
       "      <td>289.36</td>\n",
       "      <td>0.0</td>\n",
       "      <td>0.0</td>\n",
       "      <td>Clouds</td>\n",
       "      <td>02-10-2012</td>\n",
       "      <td>10:00:00</td>\n",
       "      <td>4516</td>\n",
       "    </tr>\n",
       "    <tr>\n",
       "      <th>2</th>\n",
       "      <td>None</td>\n",
       "      <td>289.58</td>\n",
       "      <td>0.0</td>\n",
       "      <td>0.0</td>\n",
       "      <td>Clouds</td>\n",
       "      <td>02-10-2012</td>\n",
       "      <td>11:00:00</td>\n",
       "      <td>4767</td>\n",
       "    </tr>\n",
       "    <tr>\n",
       "      <th>3</th>\n",
       "      <td>None</td>\n",
       "      <td>290.13</td>\n",
       "      <td>0.0</td>\n",
       "      <td>0.0</td>\n",
       "      <td>Clouds</td>\n",
       "      <td>02-10-2012</td>\n",
       "      <td>12:00:00</td>\n",
       "      <td>5026</td>\n",
       "    </tr>\n",
       "    <tr>\n",
       "      <th>4</th>\n",
       "      <td>None</td>\n",
       "      <td>291.14</td>\n",
       "      <td>0.0</td>\n",
       "      <td>0.0</td>\n",
       "      <td>Clouds</td>\n",
       "      <td>02-10-2012</td>\n",
       "      <td>13:00:00</td>\n",
       "      <td>4918</td>\n",
       "    </tr>\n",
       "  </tbody>\n",
       "</table>\n",
       "</div>"
      ],
      "text/plain": [
       "  holiday    temp  rain  snow weather        date      Time  traffic_volume\n",
       "0    None  288.28   0.0   0.0  Clouds  02-10-2012  09:00:00            5545\n",
       "1    None  289.36   0.0   0.0  Clouds  02-10-2012  10:00:00            4516\n",
       "2    None  289.58   0.0   0.0  Clouds  02-10-2012  11:00:00            4767\n",
       "3    None  290.13   0.0   0.0  Clouds  02-10-2012  12:00:00            5026\n",
       "4    None  291.14   0.0   0.0  Clouds  02-10-2012  13:00:00            4918"
      ]
     },
     "execution_count": 59,
     "metadata": {},
     "output_type": "execute_result"
    }
   ],
   "source": [
    "# displaying first 5 columns of the data\n",
    "data.head()"
   ]
  },
  {
   "cell_type": "code",
   "execution_count": 60,
   "metadata": {
    "id": "pWpHK9CMA5ID",
    "outputId": "9c14387d-247d-4ce5-bffe-d7d7db32d518"
   },
   "outputs": [
    {
     "data": {
      "text/plain": [
       "(48204, 8)"
      ]
     },
     "execution_count": 60,
     "metadata": {},
     "output_type": "execute_result"
    }
   ],
   "source": [
    "# displaying the dimensions of the data (rows and columns)\n",
    "data.shape"
   ]
  },
  {
   "cell_type": "code",
   "execution_count": 61,
   "metadata": {
    "id": "M_UgoLxxA5IF",
    "outputId": "3c1c209e-319a-4b8f-a0e2-85e240c8ebe1"
   },
   "outputs": [
    {
     "name": "stdout",
     "output_type": "stream",
     "text": [
      "<class 'pandas.core.frame.DataFrame'>\n",
      "RangeIndex: 48204 entries, 0 to 48203\n",
      "Data columns (total 8 columns):\n",
      " #   Column          Non-Null Count  Dtype  \n",
      "---  ------          --------------  -----  \n",
      " 0   holiday         48204 non-null  object \n",
      " 1   temp            48151 non-null  float64\n",
      " 2   rain            48202 non-null  float64\n",
      " 3   snow            48192 non-null  float64\n",
      " 4   weather         48155 non-null  object \n",
      " 5   date            48204 non-null  object \n",
      " 6   Time            48204 non-null  object \n",
      " 7   traffic_volume  48204 non-null  int64  \n",
      "dtypes: float64(3), int64(1), object(4)\n",
      "memory usage: 2.9+ MB\n"
     ]
    }
   ],
   "source": [
    "# used to display the basic information of the data\n",
    "data.info()"
   ]
  },
  {
   "cell_type": "code",
   "execution_count": 62,
   "metadata": {
    "id": "o1nAEAc6A5IG",
    "outputId": "9fc23f53-ddbc-4b62-9ac6-95df959f206c"
   },
   "outputs": [
    {
     "data": {
      "text/html": [
       "<div>\n",
       "<style scoped>\n",
       "    .dataframe tbody tr th:only-of-type {\n",
       "        vertical-align: middle;\n",
       "    }\n",
       "\n",
       "    .dataframe tbody tr th {\n",
       "        vertical-align: top;\n",
       "    }\n",
       "\n",
       "    .dataframe thead th {\n",
       "        text-align: right;\n",
       "    }\n",
       "</style>\n",
       "<table border=\"1\" class=\"dataframe\">\n",
       "  <thead>\n",
       "    <tr style=\"text-align: right;\">\n",
       "      <th></th>\n",
       "      <th>temp</th>\n",
       "      <th>rain</th>\n",
       "      <th>snow</th>\n",
       "      <th>traffic_volume</th>\n",
       "    </tr>\n",
       "  </thead>\n",
       "  <tbody>\n",
       "    <tr>\n",
       "      <th>count</th>\n",
       "      <td>48151.000000</td>\n",
       "      <td>48202.000000</td>\n",
       "      <td>48192.000000</td>\n",
       "      <td>48204.000000</td>\n",
       "    </tr>\n",
       "    <tr>\n",
       "      <th>mean</th>\n",
       "      <td>281.205351</td>\n",
       "      <td>0.334278</td>\n",
       "      <td>0.000222</td>\n",
       "      <td>3259.818355</td>\n",
       "    </tr>\n",
       "    <tr>\n",
       "      <th>std</th>\n",
       "      <td>13.343675</td>\n",
       "      <td>44.790062</td>\n",
       "      <td>0.008169</td>\n",
       "      <td>1986.860670</td>\n",
       "    </tr>\n",
       "    <tr>\n",
       "      <th>min</th>\n",
       "      <td>0.000000</td>\n",
       "      <td>0.000000</td>\n",
       "      <td>0.000000</td>\n",
       "      <td>0.000000</td>\n",
       "    </tr>\n",
       "    <tr>\n",
       "      <th>25%</th>\n",
       "      <td>272.160000</td>\n",
       "      <td>0.000000</td>\n",
       "      <td>0.000000</td>\n",
       "      <td>1193.000000</td>\n",
       "    </tr>\n",
       "    <tr>\n",
       "      <th>50%</th>\n",
       "      <td>282.460000</td>\n",
       "      <td>0.000000</td>\n",
       "      <td>0.000000</td>\n",
       "      <td>3380.000000</td>\n",
       "    </tr>\n",
       "    <tr>\n",
       "      <th>75%</th>\n",
       "      <td>291.810000</td>\n",
       "      <td>0.000000</td>\n",
       "      <td>0.000000</td>\n",
       "      <td>4933.000000</td>\n",
       "    </tr>\n",
       "    <tr>\n",
       "      <th>max</th>\n",
       "      <td>310.070000</td>\n",
       "      <td>9831.300000</td>\n",
       "      <td>0.510000</td>\n",
       "      <td>7280.000000</td>\n",
       "    </tr>\n",
       "  </tbody>\n",
       "</table>\n",
       "</div>"
      ],
      "text/plain": [
       "               temp          rain          snow  traffic_volume\n",
       "count  48151.000000  48202.000000  48192.000000    48204.000000\n",
       "mean     281.205351      0.334278      0.000222     3259.818355\n",
       "std       13.343675     44.790062      0.008169     1986.860670\n",
       "min        0.000000      0.000000      0.000000        0.000000\n",
       "25%      272.160000      0.000000      0.000000     1193.000000\n",
       "50%      282.460000      0.000000      0.000000     3380.000000\n",
       "75%      291.810000      0.000000      0.000000     4933.000000\n",
       "max      310.070000   9831.300000      0.510000     7280.000000"
      ]
     },
     "execution_count": 62,
     "metadata": {},
     "output_type": "execute_result"
    }
   ],
   "source": [
    "# used to understand the descriptive analysis of the data\n",
    "data.describe()"
   ]
  },
  {
   "cell_type": "code",
   "execution_count": 63,
   "metadata": {
    "id": "H5y9F3bvA5IH",
    "outputId": "66605dfe-5320-4ffa-df28-2a5736dd586f",
    "scrolled": true
   },
   "outputs": [
    {
     "data": {
      "text/plain": [
       "holiday            0\n",
       "temp              53\n",
       "rain               2\n",
       "snow              12\n",
       "weather           49\n",
       "date               0\n",
       "Time               0\n",
       "traffic_volume     0\n",
       "dtype: int64"
      ]
     },
     "execution_count": 63,
     "metadata": {},
     "output_type": "execute_result"
    }
   ],
   "source": [
    "# used to display the null values of the data\n",
    "data.isnull().sum()"
   ]
  },
  {
   "cell_type": "code",
   "execution_count": 64,
   "metadata": {
    "id": "4KktNnHZA5II",
    "outputId": "377e1202-abe6-4bf2-df35-d06797c2cc8c"
   },
   "outputs": [
    {
     "data": {
      "text/plain": [
       "holiday            object\n",
       "temp              float64\n",
       "rain              float64\n",
       "snow              float64\n",
       "weather            object\n",
       "date               object\n",
       "Time               object\n",
       "traffic_volume      int64\n",
       "dtype: object"
      ]
     },
     "execution_count": 64,
     "metadata": {},
     "output_type": "execute_result"
    }
   ],
   "source": [
    "# used to display the data type of each column\n",
    "data.dtypes"
   ]
  },
  {
   "cell_type": "markdown",
   "metadata": {
    "id": "LT8nwQoRA5IJ"
   },
   "source": [
    "# Dealing with missing values of the data"
   ]
  },
  {
   "cell_type": "code",
   "execution_count": 65,
   "metadata": {
    "id": "XPLbXDdRA5IM"
   },
   "outputs": [],
   "source": [
    "from collections import Counter"
   ]
  },
  {
   "cell_type": "code",
   "execution_count": 66,
   "metadata": {
    "id": "oLmyaLS5A5IO",
    "outputId": "6c9ae960-15e9-4de4-b0cc-79ad59535b39",
    "scrolled": true
   },
   "outputs": [
    {
     "name": "stdout",
     "output_type": "stream",
     "text": [
      "Counter({0.0: 44735, 0.25: 948, 0.51: 256, 1.02: 123, 0.3: 121, 0.76: 109, 0.38: 99, 1.78: 91, 1.52: 69, 0.64: 55, 1.27: 50, 0.6: 32, 2.79: 29, 0.44: 26, 0.89: 25, 2.54: 23, 0.28: 23, 0.42: 21, 1.4: 21, 0.34: 20, 2.16: 19, 2.29: 19, 2.03: 19, 1.8: 16, 1.09: 16, 3.05: 15, 0.32: 15, 1.2: 15, 0.9: 15, 0.98: 14, 0.68: 13, 0.81: 13, 4.57: 13, 7.11: 12, 0.85: 12, 0.7: 11, 2.1: 11, 0.55: 11, 5.59: 10, 1.86: 10, 8.4: 10, 1.15: 10, 0.47: 9, 5.08: 9, 1.21: 9, 0.43: 9, 6.1: 9, 5.84: 8, 1.66: 8, 0.79: 8, 0.4: 8, 1.14: 8, 2.2: 8, 1.85: 8, 2.41: 8, 3.3: 8, 1.41: 7, 6.6: 7, 0.35: 7, 1.91: 7, 0.52: 7, 1.3: 7, 0.8: 7, 0.66: 7, 2.67: 7, 1.33: 7, 1.1: 7, 4.06: 7, 0.57: 6, 0.29: 6, 0.36: 6, 1.0: 6, 1.44: 6, 8.64: 6, 1.35: 6, 5.97: 6, 0.56: 6, 0.91: 6, 0.54: 6, 0.94: 6, 0.96: 6, 2.86: 6, 0.78: 6, 2.22: 6, 6.35: 6, 4.89: 6, 0.93: 6, 3.13: 6, 0.63: 6, 2.62: 6, 1.6: 6, 4.74: 6, 2.76: 6, 3.45: 6, 0.69: 5, 3.18: 5, 0.61: 5, 5.42: 5, 1.39: 5, 0.53: 5, 0.48: 5, 0.59: 5, 0.71: 5, 0.27: 5, 2.85: 5, 0.65: 5, 1.5: 5, 3.41: 5, 4.29: 5, 1.72: 5, 2.61: 5, 1.69: 5, 4.15: 5, 9.62: 5, 0.84: 4, 6.94: 4, 4.32: 4, 1.68: 4, 0.41: 4, 1.06: 4, 2.05: 4, 0.88: 4, 4.45: 4, 5.46: 4, 2.7: 4, 4.21: 4, 9.9: 4, 0.86: 4, 5.92: 4, 10.67: 4, 13.46: 4, 3.94: 4, 20.07: 4, 3.27: 4, 4.0: 4, 2.92: 4, 10.6: 4, 1.34: 3, 1.84: 3, 1.7: 3, 5.74: 3, 4.98: 3, 3.65: 3, 12.19: 3, 7.54: 3, 16.38: 3, 1.65: 3, 3.81: 3, 7.37: 3, 10.54: 3, 19.9: 3, 25.32: 3, 21.42: 3, 9.53: 3, 13.21: 3, 2.37: 3, 3.98: 3, 4.27: 3, 1.13: 3, 0.97: 3, 14.73: 3, 0.95: 3, 1.07: 3, 1.11: 3, 1.24: 3, 3.19: 3, 4.76: 3, 5.27: 3, 11.58: 3, 7.02: 3, 3.08: 3, 1.98: 3, 1.04: 3, 1.55: 3, 6.89: 3, 3.9: 3, 5.02: 3, 4.09: 3, 1.19: 3, 4.8: 3, 4.18: 3, 1.49: 3, 9.4: 3, 3.2: 3, 7.97: 3, 23.8: 3, 11.78: 3, 7.51: 3, 2.15: 3, 9.91: 3, 27.57: 3, 7.29: 3, 13.64: 3, 7.25: 3, 2.91: 3, 20.24: 3, 13.32: 3, 4.38: 3, 3.54: 3, 6.47: 3, 1.56: 3, 8.04: 3, 25.46: 3, 3.74: 3, 2.49: 3, 5.04: 3, 5.36: 3, 2.38: 3, 3.28: 3, 4.04: 3, 3.86: 3, 5.69: 3, 6.01: 3, 5.21: 3, 4.7: 3, 10.92: 3, 7.62: 3, 11.23: 3, 9.42: 3, 10.16: 3, 9.15: 3, 3.75: 3, 1.82: 3, 5.62: 3, 3.1: 3, 2.6: 3, 1.45: 3, 2.26: 3, 2.48: 3, 5.12: 3, 1.01: 3, 4.79: 3, 5.19: 3, 3.39: 2, 0.46: 2, 9.14: 2, 3.56: 2, 16.0: 2, 1.96: 2, 4.39: 2, 28.7: 2, 0.83: 2, 0.72: 2, 0.31: 2, 0.26: 2, 0.58: 2, 1.08: 2, 1.71: 2, 2.21: 2, 0.62: 2, 1.12: 2, 1.46: 2, 1.32: 2, 0.87: 2, 7.39: 2, 1.83: 2, 0.5: 2, 0.77: 2, 2.98: 2, 4.43: 2, 6.45: 2, 1.76: 2, 7.77: 2, 8.89: 2, 15.41: 2, 5.25: 2, 8.02: 2, 12.7: 2, 1.03: 2, 5.86: 2, 7.87: 2, 1.67: 2, 3.09: 2, 1.51: 2, 7.72: 2, 4.64: 2, 2.06: 2, 2.4: 2, 2.96: 2, 6.48: 2, 5.89: 2, 2.39: 2, 2.88: 2, 3.4: 2, 1.29: 1, 44.45: 1, 55.63: 1, 18.8: 1, 0.37: 1, 0.67: 1, 1.87: 1, 0.33: 1, 2.13: 1, 1.63: 1, 1.38: 1, 2.35: 1, 2.11: 1, 2.53: 1, 0.92: 1, 1.22: 1, 1.05: 1, 2.31: 1, 3.17: 1, 2.14: 1, 2.34: 1, 1.61: 1, 5.58: 1, 5.11: 1, 5.1: 1, 4.53: 1, 1.25: 1, 4.5: 1, 3.47: 1, 0.45: 1, 2.18: 1, 2.84: 1, 2.93: 1, 2.87: 1, 2.8: 1, 0.74: 1, 1.28: 1, 1.47: 1, 4.66: 1, 2.08: 1, 3.12: 1, 1.53: 1, 3.25: 1, 1.9: 1, 12.45: 1, 1.37: 1, 2.78: 1, 1.31: 1, 3.44: 1, 2.75: 1, 2.19: 1, 1.59: 1, 5.73: 1, 5.93: 1, 3.91: 1, 18.03: 1, 1.88: 1, 3.01: 1, 2.12: 1, 0.73: 1, 11.59: 1, 2.33: 1, 5.52: 1, 1.93: 1, 2.68: 1, 10.05: 1, 7.7: 1, 4.05: 1, 3.8: 1, 9831.3: 1, 16.51: 1, 12.83: 1, 18.42: 1, 5.06: 1, 1.95: 1, 9.0: 1, 8.86: 1, 5.99: 1, 8.0: 1, 31.75: 1, 5.41: 1, 2.83: 1, 15.75: 1, 3.64: 1, 7.13: 1, 1.16: 1, 7.05: 1, 2.73: 1, nan: 1, nan: 1})\n",
      "Counter({0.0: 48129, 0.05: 14, 0.06: 12, 0.51: 6, 0.25: 6, 0.13: 6, 0.1: 6, 0.32: 5, 0.17: 3, 0.44: 2, 0.08: 2, nan: 1, nan: 1, nan: 1, nan: 1, nan: 1, nan: 1, nan: 1, nan: 1, nan: 1, nan: 1, nan: 1, 0.21: 1, nan: 1})\n"
     ]
    }
   ],
   "source": [
    "print(Counter(data['rain']))\n",
    "print(Counter(data['snow']))"
   ]
  },
  {
   "cell_type": "code",
   "execution_count": 67,
   "metadata": {
    "id": "4cHt4xCgA5IQ"
   },
   "outputs": [],
   "source": [
    "data['temp'].fillna(data['temp'].mean(),inplace=True)\n",
    "data['rain'].fillna(data['rain'].mean(),inplace=True)\n",
    "data['snow'].fillna(data['snow'].mean(),inplace=True)"
   ]
  },
  {
   "cell_type": "code",
   "execution_count": 68,
   "metadata": {
    "id": "H009sEKsA5IQ",
    "outputId": "0fe6e03d-d328-494a-a9ad-059b833ef3ec",
    "scrolled": true
   },
   "outputs": [
    {
     "name": "stdout",
     "output_type": "stream",
     "text": [
      "Counter({'Clouds': 15144, 'Clear': 13383, 'Mist': 5942, 'Rain': 5665, 'Snow': 2875, 'Drizzle': 1818, 'Haze': 1359, 'Thunderstorm': 1033, 'Fog': 912, nan: 49, 'Smoke': 20, 'Squall': 4})\n"
     ]
    }
   ],
   "source": [
    "print(Counter(data['weather']))"
   ]
  },
  {
   "cell_type": "code",
   "execution_count": 69,
   "metadata": {
    "id": "dJ4s6kM3A5IR"
   },
   "outputs": [],
   "source": [
    "data['weather'].fillna('Clouds',inplace=True)"
   ]
  },
  {
   "cell_type": "code",
   "execution_count": 70,
   "metadata": {
    "id": "Jq81mF3FA5IR",
    "outputId": "97cd4c3b-d473-439c-ce87-10b83838e89c"
   },
   "outputs": [
    {
     "data": {
      "text/plain": [
       "holiday           0\n",
       "temp              0\n",
       "rain              0\n",
       "snow              0\n",
       "weather           0\n",
       "date              0\n",
       "Time              0\n",
       "traffic_volume    0\n",
       "dtype: int64"
      ]
     },
     "execution_count": 70,
     "metadata": {},
     "output_type": "execute_result"
    }
   ],
   "source": [
    "data.isnull().sum()"
   ]
  },
  {
   "cell_type": "markdown",
   "metadata": {
    "id": "YYAbwCl4A5IS"
   },
   "source": [
    "# encoding the data"
   ]
  },
  {
   "cell_type": "code",
   "execution_count": 71,
   "metadata": {
    "id": "pNA2YMSzA5IT"
   },
   "outputs": [],
   "source": [
    "from sklearn.preprocessing import LabelEncoder"
   ]
  },
  {
   "cell_type": "code",
   "execution_count": 72,
   "metadata": {
    "id": "V21Ow2Z7A5IT"
   },
   "outputs": [],
   "source": [
    "le = LabelEncoder()"
   ]
  },
  {
   "cell_type": "code",
   "execution_count": 73,
   "metadata": {
    "id": "Qu-YbeqvA5IU"
   },
   "outputs": [],
   "source": [
    "data['weather'] = le.fit_transform(data['weather'])"
   ]
  },
  {
   "cell_type": "code",
   "execution_count": 74,
   "metadata": {
    "id": "DeaZQOOZA5IU"
   },
   "outputs": [],
   "source": [
    "data['holiday'] = le.fit_transform(data['holiday'])"
   ]
  },
  {
   "cell_type": "code",
   "execution_count": 75,
   "metadata": {
    "id": "aexXQzX-A5IV",
    "outputId": "c2403c76-f7b0-4d33-9106-bb7b89f5cec3"
   },
   "outputs": [
    {
     "data": {
      "text/html": [
       "<div>\n",
       "<style scoped>\n",
       "    .dataframe tbody tr th:only-of-type {\n",
       "        vertical-align: middle;\n",
       "    }\n",
       "\n",
       "    .dataframe tbody tr th {\n",
       "        vertical-align: top;\n",
       "    }\n",
       "\n",
       "    .dataframe thead th {\n",
       "        text-align: right;\n",
       "    }\n",
       "</style>\n",
       "<table border=\"1\" class=\"dataframe\">\n",
       "  <thead>\n",
       "    <tr style=\"text-align: right;\">\n",
       "      <th></th>\n",
       "      <th>holiday</th>\n",
       "      <th>temp</th>\n",
       "      <th>rain</th>\n",
       "      <th>snow</th>\n",
       "      <th>weather</th>\n",
       "      <th>date</th>\n",
       "      <th>Time</th>\n",
       "      <th>traffic_volume</th>\n",
       "    </tr>\n",
       "  </thead>\n",
       "  <tbody>\n",
       "    <tr>\n",
       "      <th>0</th>\n",
       "      <td>7</td>\n",
       "      <td>288.28</td>\n",
       "      <td>0.0</td>\n",
       "      <td>0.0</td>\n",
       "      <td>1</td>\n",
       "      <td>02-10-2012</td>\n",
       "      <td>09:00:00</td>\n",
       "      <td>5545</td>\n",
       "    </tr>\n",
       "    <tr>\n",
       "      <th>1</th>\n",
       "      <td>7</td>\n",
       "      <td>289.36</td>\n",
       "      <td>0.0</td>\n",
       "      <td>0.0</td>\n",
       "      <td>1</td>\n",
       "      <td>02-10-2012</td>\n",
       "      <td>10:00:00</td>\n",
       "      <td>4516</td>\n",
       "    </tr>\n",
       "    <tr>\n",
       "      <th>2</th>\n",
       "      <td>7</td>\n",
       "      <td>289.58</td>\n",
       "      <td>0.0</td>\n",
       "      <td>0.0</td>\n",
       "      <td>1</td>\n",
       "      <td>02-10-2012</td>\n",
       "      <td>11:00:00</td>\n",
       "      <td>4767</td>\n",
       "    </tr>\n",
       "    <tr>\n",
       "      <th>3</th>\n",
       "      <td>7</td>\n",
       "      <td>290.13</td>\n",
       "      <td>0.0</td>\n",
       "      <td>0.0</td>\n",
       "      <td>1</td>\n",
       "      <td>02-10-2012</td>\n",
       "      <td>12:00:00</td>\n",
       "      <td>5026</td>\n",
       "    </tr>\n",
       "    <tr>\n",
       "      <th>4</th>\n",
       "      <td>7</td>\n",
       "      <td>291.14</td>\n",
       "      <td>0.0</td>\n",
       "      <td>0.0</td>\n",
       "      <td>1</td>\n",
       "      <td>02-10-2012</td>\n",
       "      <td>13:00:00</td>\n",
       "      <td>4918</td>\n",
       "    </tr>\n",
       "  </tbody>\n",
       "</table>\n",
       "</div>"
      ],
      "text/plain": [
       "   holiday    temp  rain  snow  weather        date      Time  traffic_volume\n",
       "0        7  288.28   0.0   0.0        1  02-10-2012  09:00:00            5545\n",
       "1        7  289.36   0.0   0.0        1  02-10-2012  10:00:00            4516\n",
       "2        7  289.58   0.0   0.0        1  02-10-2012  11:00:00            4767\n",
       "3        7  290.13   0.0   0.0        1  02-10-2012  12:00:00            5026\n",
       "4        7  291.14   0.0   0.0        1  02-10-2012  13:00:00            4918"
      ]
     },
     "execution_count": 75,
     "metadata": {},
     "output_type": "execute_result"
    }
   ],
   "source": [
    "data.head()"
   ]
  },
  {
   "cell_type": "code",
   "execution_count": 76,
   "metadata": {
    "id": "ZJTL_b_ZA5IV"
   },
   "outputs": [],
   "source": [
    "# spliiting the date column into year,month,day\n",
    "data[[\"day\", \"month\", \"year\"]] = data[\"date\"].str.split(\"-\", expand = True)"
   ]
  },
  {
   "cell_type": "code",
   "execution_count": 77,
   "metadata": {
    "id": "XznjZWh-A5IW"
   },
   "outputs": [],
   "source": [
    "# spliiting the date column into year,month,day\n",
    "data[[\"hours\", \"minutes\", \"seconds\"]] = data[\"Time\"].str.split(\":\", expand = True)"
   ]
  },
  {
   "cell_type": "code",
   "execution_count": 78,
   "metadata": {
    "id": "5iXBByxcA5IW"
   },
   "outputs": [],
   "source": [
    "data.drop(columns=['date','Time'],axis=1,inplace=True)"
   ]
  },
  {
   "cell_type": "code",
   "execution_count": 79,
   "metadata": {
    "id": "m6y59LKcA5IX",
    "outputId": "cc2ce1c2-4fd9-4ccf-c1b5-07032bcdf3ef"
   },
   "outputs": [
    {
     "data": {
      "text/html": [
       "<div>\n",
       "<style scoped>\n",
       "    .dataframe tbody tr th:only-of-type {\n",
       "        vertical-align: middle;\n",
       "    }\n",
       "\n",
       "    .dataframe tbody tr th {\n",
       "        vertical-align: top;\n",
       "    }\n",
       "\n",
       "    .dataframe thead th {\n",
       "        text-align: right;\n",
       "    }\n",
       "</style>\n",
       "<table border=\"1\" class=\"dataframe\">\n",
       "  <thead>\n",
       "    <tr style=\"text-align: right;\">\n",
       "      <th></th>\n",
       "      <th>holiday</th>\n",
       "      <th>temp</th>\n",
       "      <th>rain</th>\n",
       "      <th>snow</th>\n",
       "      <th>weather</th>\n",
       "      <th>traffic_volume</th>\n",
       "      <th>day</th>\n",
       "      <th>month</th>\n",
       "      <th>year</th>\n",
       "      <th>hours</th>\n",
       "      <th>minutes</th>\n",
       "      <th>seconds</th>\n",
       "    </tr>\n",
       "  </thead>\n",
       "  <tbody>\n",
       "    <tr>\n",
       "      <th>0</th>\n",
       "      <td>7</td>\n",
       "      <td>288.28</td>\n",
       "      <td>0.0</td>\n",
       "      <td>0.0</td>\n",
       "      <td>1</td>\n",
       "      <td>5545</td>\n",
       "      <td>02</td>\n",
       "      <td>10</td>\n",
       "      <td>2012</td>\n",
       "      <td>09</td>\n",
       "      <td>00</td>\n",
       "      <td>00</td>\n",
       "    </tr>\n",
       "    <tr>\n",
       "      <th>1</th>\n",
       "      <td>7</td>\n",
       "      <td>289.36</td>\n",
       "      <td>0.0</td>\n",
       "      <td>0.0</td>\n",
       "      <td>1</td>\n",
       "      <td>4516</td>\n",
       "      <td>02</td>\n",
       "      <td>10</td>\n",
       "      <td>2012</td>\n",
       "      <td>10</td>\n",
       "      <td>00</td>\n",
       "      <td>00</td>\n",
       "    </tr>\n",
       "    <tr>\n",
       "      <th>2</th>\n",
       "      <td>7</td>\n",
       "      <td>289.58</td>\n",
       "      <td>0.0</td>\n",
       "      <td>0.0</td>\n",
       "      <td>1</td>\n",
       "      <td>4767</td>\n",
       "      <td>02</td>\n",
       "      <td>10</td>\n",
       "      <td>2012</td>\n",
       "      <td>11</td>\n",
       "      <td>00</td>\n",
       "      <td>00</td>\n",
       "    </tr>\n",
       "    <tr>\n",
       "      <th>3</th>\n",
       "      <td>7</td>\n",
       "      <td>290.13</td>\n",
       "      <td>0.0</td>\n",
       "      <td>0.0</td>\n",
       "      <td>1</td>\n",
       "      <td>5026</td>\n",
       "      <td>02</td>\n",
       "      <td>10</td>\n",
       "      <td>2012</td>\n",
       "      <td>12</td>\n",
       "      <td>00</td>\n",
       "      <td>00</td>\n",
       "    </tr>\n",
       "    <tr>\n",
       "      <th>4</th>\n",
       "      <td>7</td>\n",
       "      <td>291.14</td>\n",
       "      <td>0.0</td>\n",
       "      <td>0.0</td>\n",
       "      <td>1</td>\n",
       "      <td>4918</td>\n",
       "      <td>02</td>\n",
       "      <td>10</td>\n",
       "      <td>2012</td>\n",
       "      <td>13</td>\n",
       "      <td>00</td>\n",
       "      <td>00</td>\n",
       "    </tr>\n",
       "  </tbody>\n",
       "</table>\n",
       "</div>"
      ],
      "text/plain": [
       "   holiday    temp  rain  snow  weather  traffic_volume day month  year hours  \\\n",
       "0        7  288.28   0.0   0.0        1            5545  02    10  2012    09   \n",
       "1        7  289.36   0.0   0.0        1            4516  02    10  2012    10   \n",
       "2        7  289.58   0.0   0.0        1            4767  02    10  2012    11   \n",
       "3        7  290.13   0.0   0.0        1            5026  02    10  2012    12   \n",
       "4        7  291.14   0.0   0.0        1            4918  02    10  2012    13   \n",
       "\n",
       "  minutes seconds  \n",
       "0      00      00  \n",
       "1      00      00  \n",
       "2      00      00  \n",
       "3      00      00  \n",
       "4      00      00  "
      ]
     },
     "execution_count": 79,
     "metadata": {},
     "output_type": "execute_result"
    }
   ],
   "source": [
    "data.head()"
   ]
  },
  {
   "cell_type": "code",
   "execution_count": 80,
   "metadata": {
    "id": "9cJUM_azA5IX"
   },
   "outputs": [
    {
     "name": "stderr",
     "output_type": "stream",
     "text": [
      "C:\\Users\\srilekha\\AppData\\Local\\Temp\\ipykernel_9032\\2763113851.py:1: FutureWarning: The default value of numeric_only in DataFrame.corr is deprecated. In a future version, it will default to False. Select only valid columns or specify the value of numeric_only to silence this warning.\n",
      "  cor = data.corr()\n"
     ]
    }
   ],
   "source": [
    "cor = data.corr()"
   ]
  },
  {
   "cell_type": "markdown",
   "metadata": {
    "id": "mz1r7ucZA5IY"
   },
   "source": [
    "# scaling the data"
   ]
  },
  {
   "cell_type": "code",
   "execution_count": 81,
   "metadata": {
    "id": "XFK3i35oA5IY"
   },
   "outputs": [],
   "source": [
    "y = data['traffic_volume']\n",
    "x = data.drop(columns=['traffic_volume'],axis=1)"
   ]
  },
  {
   "cell_type": "code",
   "execution_count": 82,
   "metadata": {
    "id": "y1xMonwQA5IZ"
   },
   "outputs": [],
   "source": [
    "names = x.columns"
   ]
  },
  {
   "cell_type": "code",
   "execution_count": 83,
   "metadata": {
    "id": "wDBuHkqoA5IZ"
   },
   "outputs": [],
   "source": [
    "from sklearn.preprocessing import scale"
   ]
  },
  {
   "cell_type": "code",
   "execution_count": 84,
   "metadata": {
    "id": "NMRyTzUWA5IZ"
   },
   "outputs": [],
   "source": [
    "x = scale(x)"
   ]
  },
  {
   "cell_type": "code",
   "execution_count": 85,
   "metadata": {
    "id": "BYqs5P63A5Ia",
    "scrolled": true
   },
   "outputs": [],
   "source": [
    "x  = pd.DataFrame(x,columns=names)"
   ]
  },
  {
   "cell_type": "code",
   "execution_count": 86,
   "metadata": {
    "id": "US_4Ac0AA5Ia",
    "outputId": "7b7b326f-3cc7-4032-c980-25b5288dbf33"
   },
   "outputs": [
    {
     "data": {
      "text/html": [
       "<div>\n",
       "<style scoped>\n",
       "    .dataframe tbody tr th:only-of-type {\n",
       "        vertical-align: middle;\n",
       "    }\n",
       "\n",
       "    .dataframe tbody tr th {\n",
       "        vertical-align: top;\n",
       "    }\n",
       "\n",
       "    .dataframe thead th {\n",
       "        text-align: right;\n",
       "    }\n",
       "</style>\n",
       "<table border=\"1\" class=\"dataframe\">\n",
       "  <thead>\n",
       "    <tr style=\"text-align: right;\">\n",
       "      <th></th>\n",
       "      <th>holiday</th>\n",
       "      <th>temp</th>\n",
       "      <th>rain</th>\n",
       "      <th>snow</th>\n",
       "      <th>weather</th>\n",
       "      <th>day</th>\n",
       "      <th>month</th>\n",
       "      <th>year</th>\n",
       "      <th>hours</th>\n",
       "      <th>minutes</th>\n",
       "      <th>seconds</th>\n",
       "    </tr>\n",
       "  </thead>\n",
       "  <tbody>\n",
       "    <tr>\n",
       "      <th>0</th>\n",
       "      <td>0.015856</td>\n",
       "      <td>0.530485</td>\n",
       "      <td>-0.007463</td>\n",
       "      <td>-0.027235</td>\n",
       "      <td>-0.566452</td>\n",
       "      <td>-1.574903</td>\n",
       "      <td>1.02758</td>\n",
       "      <td>-1.855294</td>\n",
       "      <td>-0.345548</td>\n",
       "      <td>0.0</td>\n",
       "      <td>0.0</td>\n",
       "    </tr>\n",
       "    <tr>\n",
       "      <th>1</th>\n",
       "      <td>0.015856</td>\n",
       "      <td>0.611467</td>\n",
       "      <td>-0.007463</td>\n",
       "      <td>-0.027235</td>\n",
       "      <td>-0.566452</td>\n",
       "      <td>-1.574903</td>\n",
       "      <td>1.02758</td>\n",
       "      <td>-1.855294</td>\n",
       "      <td>-0.201459</td>\n",
       "      <td>0.0</td>\n",
       "      <td>0.0</td>\n",
       "    </tr>\n",
       "    <tr>\n",
       "      <th>2</th>\n",
       "      <td>0.015856</td>\n",
       "      <td>0.627964</td>\n",
       "      <td>-0.007463</td>\n",
       "      <td>-0.027235</td>\n",
       "      <td>-0.566452</td>\n",
       "      <td>-1.574903</td>\n",
       "      <td>1.02758</td>\n",
       "      <td>-1.855294</td>\n",
       "      <td>-0.057371</td>\n",
       "      <td>0.0</td>\n",
       "      <td>0.0</td>\n",
       "    </tr>\n",
       "    <tr>\n",
       "      <th>3</th>\n",
       "      <td>0.015856</td>\n",
       "      <td>0.669205</td>\n",
       "      <td>-0.007463</td>\n",
       "      <td>-0.027235</td>\n",
       "      <td>-0.566452</td>\n",
       "      <td>-1.574903</td>\n",
       "      <td>1.02758</td>\n",
       "      <td>-1.855294</td>\n",
       "      <td>0.086718</td>\n",
       "      <td>0.0</td>\n",
       "      <td>0.0</td>\n",
       "    </tr>\n",
       "    <tr>\n",
       "      <th>4</th>\n",
       "      <td>0.015856</td>\n",
       "      <td>0.744939</td>\n",
       "      <td>-0.007463</td>\n",
       "      <td>-0.027235</td>\n",
       "      <td>-0.566452</td>\n",
       "      <td>-1.574903</td>\n",
       "      <td>1.02758</td>\n",
       "      <td>-1.855294</td>\n",
       "      <td>0.230807</td>\n",
       "      <td>0.0</td>\n",
       "      <td>0.0</td>\n",
       "    </tr>\n",
       "  </tbody>\n",
       "</table>\n",
       "</div>"
      ],
      "text/plain": [
       "    holiday      temp      rain      snow   weather       day    month  \\\n",
       "0  0.015856  0.530485 -0.007463 -0.027235 -0.566452 -1.574903  1.02758   \n",
       "1  0.015856  0.611467 -0.007463 -0.027235 -0.566452 -1.574903  1.02758   \n",
       "2  0.015856  0.627964 -0.007463 -0.027235 -0.566452 -1.574903  1.02758   \n",
       "3  0.015856  0.669205 -0.007463 -0.027235 -0.566452 -1.574903  1.02758   \n",
       "4  0.015856  0.744939 -0.007463 -0.027235 -0.566452 -1.574903  1.02758   \n",
       "\n",
       "       year     hours  minutes  seconds  \n",
       "0 -1.855294 -0.345548      0.0      0.0  \n",
       "1 -1.855294 -0.201459      0.0      0.0  \n",
       "2 -1.855294 -0.057371      0.0      0.0  \n",
       "3 -1.855294  0.086718      0.0      0.0  \n",
       "4 -1.855294  0.230807      0.0      0.0  "
      ]
     },
     "execution_count": 86,
     "metadata": {},
     "output_type": "execute_result"
    }
   ],
   "source": [
    "x.head()"
   ]
  },
  {
   "cell_type": "code",
   "execution_count": 87,
   "metadata": {
    "id": "VjEOqIwtA5Ia"
   },
   "outputs": [
    {
     "name": "stderr",
     "output_type": "stream",
     "text": [
      "C:\\Users\\srilekha\\AppData\\Local\\Temp\\ipykernel_9032\\2763113851.py:1: FutureWarning: The default value of numeric_only in DataFrame.corr is deprecated. In a future version, it will default to False. Select only valid columns or specify the value of numeric_only to silence this warning.\n",
      "  cor = data.corr()\n"
     ]
    }
   ],
   "source": [
    "cor = data.corr()"
   ]
  },
  {
   "cell_type": "code",
   "execution_count": 88,
   "metadata": {
    "id": "LWF26YBoA5Ib",
    "outputId": "34ed7ada-e213-45de-e0cf-722ba77722a4"
   },
   "outputs": [
    {
     "data": {
      "text/plain": [
       "<Axes: >"
      ]
     },
     "execution_count": 88,
     "metadata": {},
     "output_type": "execute_result"
    },
    {
     "data": {
      "image/png": "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\n",
      "text/plain": [
       "<Figure size 640x480 with 2 Axes>"
      ]
     },
     "metadata": {},
     "output_type": "display_data"
    }
   ],
   "source": [
    "sns.heatmap(cor)"
   ]
  },
  {
   "cell_type": "code",
   "execution_count": 89,
   "metadata": {
    "id": "fGQeEmW0A5Ib",
    "outputId": "17d96253-f4f7-45a2-8a2c-1a7196f0ae9a"
   },
   "outputs": [
    {
     "data": {
      "text/plain": [
       "<seaborn.axisgrid.PairGrid at 0x1baec093160>"
      ]
     },
     "execution_count": 89,
     "metadata": {},
     "output_type": "execute_result"
    },
    {
     "data": {
      "image/png": "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